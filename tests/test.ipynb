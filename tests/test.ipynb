{
 "cells": [
  {
   "cell_type": "code",
   "execution_count": 1,
   "id": "657e93e3",
   "metadata": {},
   "outputs": [
    {
     "name": "stdout",
     "output_type": "stream",
     "text": [
      "bar\n"
     ]
    }
   ],
   "source": [
    "\"\"\"\n",
    "Database Connection Test Script\n",
    "Test PostgreSQL and Redis connections independently\n",
    "\"\"\"\n",
    "\n",
    "import asyncio\n",
    "import sys\n",
    "import os\n",
    "from pathlib import Path\n",
    "\n",
    "# Add project root to path\n",
    "project_root = Path(__file__).parent.parent\n",
    "sys.path.insert(0, str(project_root))\n",
    "\n",
    "from app.db.connect_db import test_connections, initialize_all_databases, db_manager\n",
    "\n",
    "async def main():\n",
    "    \"\"\"Main test function\"\"\"\n",
    "    print(\"CodeMemory Database Connection Test\")\n",
    "    print(\"=\" * 50)\n",
    "    \n",
    "    # Check environment variables\n",
    "    print(\"\\n Environment Check:\")\n",
    "    required_vars = [\"DATABASE_URL\", \"GOOGLE_API_KEY\"]\n",
    "    optional_vars = [\"REDIS_URL\", \"REDIS_HOST\", \"SUPABASE_URL\"]\n",
    "    \n",
    "    for var in required_vars:\n",
    "        value = os.getenv(var)\n",
    "        status = \"Set\" if value else \"Missing\"\n",
    "        print(f\"  {var}: {status}\")\n",
    "    \n",
    "    for var in optional_vars:\n",
    "        value = os.getenv(var)\n",
    "        status = \"Set\" if value else \"Not set\"\n",
    "        print(f\"  {var}: {status}\")\n",
    "    \n",
    "    print(\"\\n Initializing connections...\")\n",
    "    \n",
    "    # Initialize and test connections\n",
    "    success = await initialize_all_databases()\n",
    "    \n",
    "    if success:\n",
    "        print(\"\\n Running detailed tests...\")\n",
    "        test_success = await test_connections()\n",
    "        \n",
    "        if test_success:\n",
    "            print(\"\\n All tests passed! Database connections are working properly.\")\n",
    "        else:\n",
    "            print(\"\\n Some tests failed. Check your configuration.\")\n",
    "            return False\n",
    "    else:\n",
    "        print(\"\\n Failed to initialize databases. Check your configuration.\")\n",
    "        return False\n",
    "    \n",
    "    # Cleanup\n",
    "    await db_manager.close_connections()\n",
    "    return True\n",
    "\n",
    "if __name__ == \"__main__\":\n",
    "    try:\n",
    "        success = asyncio.run(main())\n",
    "        sys.exit(0 if success else 1)\n",
    "    except KeyboardInterrupt:\n",
    "        print(\"\\n Test interrupted by user\")\n",
    "        sys.exit(1)\n",
    "    except Exception as e:\n",
    "        print(f\"\\n Test failed with error: {e}\")\n",
    "        sys.exit(1)"
   ]
  },
  {
   "cell_type": "code",
   "execution_count": null,
   "id": "d4af0a81",
   "metadata": {},
   "outputs": [],
   "source": []
  },
  {
   "cell_type": "code",
   "execution_count": null,
   "id": "3723520d",
   "metadata": {},
   "outputs": [],
   "source": []
  }
 ],
 "metadata": {
  "kernelspec": {
   "display_name": "min_ds-env2",
   "language": "python",
   "name": "python3"
  },
  "language_info": {
   "codemirror_mode": {
    "name": "ipython",
    "version": 3
   },
   "file_extension": ".py",
   "mimetype": "text/x-python",
   "name": "python",
   "nbconvert_exporter": "python",
   "pygments_lexer": "ipython3",
   "version": "3.12.11"
  }
 },
 "nbformat": 4,
 "nbformat_minor": 5
}
